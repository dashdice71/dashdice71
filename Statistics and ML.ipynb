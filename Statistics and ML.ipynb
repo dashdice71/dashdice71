{
 "cells": [
  {
   "cell_type": "markdown",
   "id": "f221952d-7a16-4544-ad67-975cf2b144ac",
   "metadata": {},
   "source": [
    "## **Numpy: Basic numerical operation. Matrix operation plus some basic solvers.**"
   ]
  },
  {
   "cell_type": "code",
   "execution_count": 3,
   "id": "6b3b685a-b324-4b5a-b261-98b036b5e5f2",
   "metadata": {},
   "outputs": [],
   "source": [
    "import numpy as np"
   ]
  },
  {
   "cell_type": "code",
   "execution_count": 4,
   "id": "c343c376-9b90-4165-9ca5-da58cfd9c7ab",
   "metadata": {},
   "outputs": [
    {
     "data": {
      "text/plain": [
       "array([[1, 2],\n",
       "       [3, 4]])"
      ]
     },
     "execution_count": 4,
     "metadata": {},
     "output_type": "execute_result"
    }
   ],
   "source": [
    "X = np.array([[1, 2], [3, 4]])\n",
    "X"
   ]
  },
  {
   "cell_type": "code",
   "execution_count": 6,
   "id": "82228452-aadd-4ee9-a17b-4e00f7e66557",
   "metadata": {},
   "outputs": [
    {
     "data": {
      "text/plain": [
       "array([1, 2])"
      ]
     },
     "execution_count": 6,
     "metadata": {},
     "output_type": "execute_result"
    }
   ],
   "source": [
    "# v = np.array([1, 2]).reshape((2, 1))\n",
    "v = np.array([1, 2])\n",
    "v"
   ]
  },
  {
   "cell_type": "code",
   "execution_count": 7,
   "id": "d4f40ed8-c0b7-4a47-b1b2-93159a67ab61",
   "metadata": {},
   "outputs": [
    {
     "data": {
      "text/plain": [
       "array([ 5, 11])"
      ]
     },
     "execution_count": 7,
     "metadata": {},
     "output_type": "execute_result"
    }
   ],
   "source": [
    "np.dot(X, v) # no broadcasting"
   ]
  },
  {
   "cell_type": "code",
   "execution_count": 8,
   "id": "23d89d91-e17b-489b-ace0-00640f933463",
   "metadata": {},
   "outputs": [
    {
     "data": {
      "text/plain": [
       "array([[1, 4],\n",
       "       [3, 8]])"
      ]
     },
     "execution_count": 8,
     "metadata": {},
     "output_type": "execute_result"
    }
   ],
   "source": [
    "X * v # broadcasting"
   ]
  },
  {
   "cell_type": "code",
   "execution_count": 9,
   "id": "dbea506a-ba9a-48dd-a5e6-cc62803ae5b6",
   "metadata": {},
   "outputs": [
    {
     "data": {
      "text/plain": [
       "array([ 7, 10])"
      ]
     },
     "execution_count": 9,
     "metadata": {},
     "output_type": "execute_result"
    }
   ],
   "source": [
    "np.dot(v, X)"
   ]
  },
  {
   "cell_type": "code",
   "execution_count": 10,
   "id": "9af85a46-d2ac-4ea9-ad51-38a97f50a714",
   "metadata": {},
   "outputs": [
    {
     "data": {
      "text/plain": [
       "array([[-1., -1.],\n",
       "       [ 1.,  1.]])"
      ]
     },
     "execution_count": 10,
     "metadata": {},
     "output_type": "execute_result"
    }
   ],
   "source": [
    "X - X.mean(axis=0)"
   ]
  },
  {
   "cell_type": "code",
   "execution_count": null,
   "id": "dff647b1-f74a-4f45-9082-d797f86d4df6",
   "metadata": {},
   "outputs": [],
   "source": []
  }
 ],
 "metadata": {
  "kernelspec": {
   "display_name": "Python 3 (ipykernel)",
   "language": "python",
   "name": "python3"
  },
  "language_info": {
   "codemirror_mode": {
    "name": "ipython",
    "version": 3
   },
   "file_extension": ".py",
   "mimetype": "text/x-python",
   "name": "python",
   "nbconvert_exporter": "python",
   "pygments_lexer": "ipython3",
   "version": "3.8.12"
  }
 },
 "nbformat": 4,
 "nbformat_minor": 5
}
