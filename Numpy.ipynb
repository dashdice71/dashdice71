{
 "cells": [
  {
   "cell_type": "code",
   "execution_count": 1,
   "id": "7b852724-067f-4292-85c2-420d6b42578b",
   "metadata": {},
   "outputs": [],
   "source": [
    "import numpy as np"
   ]
  },
  {
   "cell_type": "code",
   "execution_count": 2,
   "id": "67101b0c-edf1-403d-9b1e-c8b0c7d85c6b",
   "metadata": {},
   "outputs": [],
   "source": [
    "a = np.array([1, 2, 3, 4])"
   ]
  },
  {
   "cell_type": "code",
   "execution_count": 3,
   "id": "4d39edf4-1909-4956-8f2d-890a1a55bb8a",
   "metadata": {},
   "outputs": [
    {
     "data": {
      "text/plain": [
       "array([1, 2, 3, 4])"
      ]
     },
     "execution_count": 3,
     "metadata": {},
     "output_type": "execute_result"
    }
   ],
   "source": [
    "a"
   ]
  },
  {
   "cell_type": "code",
   "execution_count": 4,
   "id": "b26e60e1-80cf-49c7-8a7f-1c26628a824b",
   "metadata": {},
   "outputs": [
    {
     "data": {
      "text/plain": [
       "numpy.ndarray"
      ]
     },
     "execution_count": 4,
     "metadata": {},
     "output_type": "execute_result"
    }
   ],
   "source": [
    "type(a)"
   ]
  },
  {
   "cell_type": "code",
   "execution_count": 5,
   "id": "20d2dafa-ea47-45fd-8d9a-93be889150d9",
   "metadata": {},
   "outputs": [
    {
     "data": {
      "text/plain": [
       "dtype('int32')"
      ]
     },
     "execution_count": 5,
     "metadata": {},
     "output_type": "execute_result"
    }
   ],
   "source": [
    "a.dtype"
   ]
  },
  {
   "cell_type": "code",
   "execution_count": 6,
   "id": "be05d8b3-6232-4de8-82e3-2f33946faa8a",
   "metadata": {},
   "outputs": [
    {
     "data": {
      "text/plain": [
       "1"
      ]
     },
     "execution_count": 6,
     "metadata": {},
     "output_type": "execute_result"
    }
   ],
   "source": [
    "a.ndim"
   ]
  },
  {
   "cell_type": "code",
   "execution_count": 7,
   "id": "80674551-278c-4be8-9ad1-545b58608df3",
   "metadata": {},
   "outputs": [
    {
     "data": {
      "text/plain": [
       "(4,)"
      ]
     },
     "execution_count": 7,
     "metadata": {},
     "output_type": "execute_result"
    }
   ],
   "source": [
    "a.shape"
   ]
  },
  {
   "cell_type": "code",
   "execution_count": 8,
   "id": "f8e387c9-cfa4-4688-a3c2-442cd4004fd8",
   "metadata": {},
   "outputs": [],
   "source": [
    "f = np.array([5, 6, 7, 8])"
   ]
  },
  {
   "cell_type": "code",
   "execution_count": 9,
   "id": "955cddff-c50c-4371-84c0-517905a2f722",
   "metadata": {},
   "outputs": [
    {
     "data": {
      "text/plain": [
       "array([5, 6, 7, 8])"
      ]
     },
     "execution_count": 9,
     "metadata": {},
     "output_type": "execute_result"
    }
   ],
   "source": [
    "f"
   ]
  },
  {
   "cell_type": "code",
   "execution_count": 10,
   "id": "7c8a4386-bfca-4a3f-a434-f965ad4312f1",
   "metadata": {},
   "outputs": [
    {
     "data": {
      "text/plain": [
       "array([ 5, 12, 21, 32])"
      ]
     },
     "execution_count": 10,
     "metadata": {},
     "output_type": "execute_result"
    }
   ],
   "source": [
    "a * f"
   ]
  },
  {
   "cell_type": "code",
   "execution_count": 11,
   "id": "caf91be2-6d8d-4589-85ae-7621051d2069",
   "metadata": {},
   "outputs": [
    {
     "data": {
      "text/plain": [
       "array([    1,    64,  2187, 65536], dtype=int32)"
      ]
     },
     "execution_count": 11,
     "metadata": {},
     "output_type": "execute_result"
    }
   ],
   "source": [
    "a ** f"
   ]
  },
  {
   "cell_type": "code",
   "execution_count": 12,
   "id": "8b18e08b-bf8f-4cd6-a1aa-8e3f5ef3f26d",
   "metadata": {},
   "outputs": [
    {
     "data": {
      "text/plain": [
       "array([5.        , 3.        , 2.33333333, 2.        ])"
      ]
     },
     "execution_count": 12,
     "metadata": {},
     "output_type": "execute_result"
    }
   ],
   "source": [
    "f / a"
   ]
  },
  {
   "cell_type": "markdown",
   "id": "fc680cf7-204b-433e-bad5-f8c24b769c94",
   "metadata": {},
   "source": [
    "# **Universal Functions (ufuncs)**"
   ]
  },
  {
   "cell_type": "code",
   "execution_count": 13,
   "id": "161c742b-dd5f-46bb-8922-df02efd37595",
   "metadata": {},
   "outputs": [
    {
     "data": {
      "text/plain": [
       "array([ 0.84147098,  0.90929743,  0.14112001, -0.7568025 ])"
      ]
     },
     "execution_count": 13,
     "metadata": {},
     "output_type": "execute_result"
    }
   ],
   "source": [
    "np.sin(a)"
   ]
  },
  {
   "cell_type": "code",
   "execution_count": 14,
   "id": "2611a90e-a6ff-4de6-b7e4-7ce7f9e64f21",
   "metadata": {},
   "outputs": [
    {
     "data": {
      "text/plain": [
       "array([ 0.54030231, -0.41614684, -0.9899925 , -0.65364362])"
      ]
     },
     "execution_count": 14,
     "metadata": {},
     "output_type": "execute_result"
    }
   ],
   "source": [
    "np.cos(a)"
   ]
  },
  {
   "cell_type": "code",
   "execution_count": 16,
   "id": "555eeffb-bb64-40b1-b109-bee08445b8e0",
   "metadata": {},
   "outputs": [
    {
     "data": {
      "text/plain": [
       "array([-3.38051501, -0.29100619,  0.87144798, -6.79971146])"
      ]
     },
     "execution_count": 16,
     "metadata": {},
     "output_type": "execute_result"
    }
   ],
   "source": [
    "np.tan(f)"
   ]
  },
  {
   "cell_type": "markdown",
   "id": "688125a3-00c3-4980-833a-1db71db39545",
   "metadata": {},
   "source": [
    "# **Two dimensional array**"
   ]
  },
  {
   "cell_type": "code",
   "execution_count": 17,
   "id": "017ff5ca-446f-4df3-949b-6e3f03ba34a4",
   "metadata": {},
   "outputs": [],
   "source": [
    "b = np.array([[0, 1, 2, 3], [10, 11, 12, 13]])"
   ]
  },
  {
   "cell_type": "code",
   "execution_count": 18,
   "id": "bbaf924c-8fa7-42a2-a55d-664685050a48",
   "metadata": {},
   "outputs": [
    {
     "data": {
      "text/plain": [
       "array([[ 0,  1,  2,  3],\n",
       "       [10, 11, 12, 13]])"
      ]
     },
     "execution_count": 18,
     "metadata": {},
     "output_type": "execute_result"
    }
   ],
   "source": [
    "b"
   ]
  },
  {
   "cell_type": "code",
   "execution_count": 19,
   "id": "74525563-1a6c-4d4b-9dc2-06d0c83112a5",
   "metadata": {},
   "outputs": [
    {
     "data": {
      "text/plain": [
       "(2, 4)"
      ]
     },
     "execution_count": 19,
     "metadata": {},
     "output_type": "execute_result"
    }
   ],
   "source": [
    "b.shape"
   ]
  },
  {
   "cell_type": "code",
   "execution_count": 20,
   "id": "e390c194-5a5c-4c6b-8ba4-8cd6dc393661",
   "metadata": {},
   "outputs": [
    {
     "data": {
      "text/plain": [
       "8"
      ]
     },
     "execution_count": 20,
     "metadata": {},
     "output_type": "execute_result"
    }
   ],
   "source": [
    "b.size"
   ]
  },
  {
   "cell_type": "code",
   "execution_count": 22,
   "id": "9f7e54aa-fa5a-4523-bcce-f181fb29fda0",
   "metadata": {},
   "outputs": [
    {
     "data": {
      "text/plain": [
       "2"
      ]
     },
     "execution_count": 22,
     "metadata": {},
     "output_type": "execute_result"
    }
   ],
   "source": [
    "b.ndim"
   ]
  },
  {
   "cell_type": "code",
   "execution_count": 27,
   "id": "dc8bdd14-c498-4957-a8ae-eac69d0f078a",
   "metadata": {},
   "outputs": [],
   "source": [
    "# **Indexing**"
   ]
  },
  {
   "cell_type": "code",
   "execution_count": 26,
   "id": "e176ba53-6596-4e60-bf4a-c1469243d0e5",
   "metadata": {},
   "outputs": [
    {
     "data": {
      "text/plain": [
       "13"
      ]
     },
     "execution_count": 26,
     "metadata": {},
     "output_type": "execute_result"
    }
   ],
   "source": [
    "b[1,3]"
   ]
  },
  {
   "cell_type": "code",
   "execution_count": 24,
   "id": "356b1d0a-a51a-42f2-940d-813813d5a86b",
   "metadata": {},
   "outputs": [
    {
     "data": {
      "text/plain": [
       "array([10, 11, 12, 13])"
      ]
     },
     "execution_count": 24,
     "metadata": {},
     "output_type": "execute_result"
    }
   ],
   "source": [
    "b[1]"
   ]
  },
  {
   "cell_type": "code",
   "execution_count": 25,
   "id": "91159b58-40a8-4481-a588-5456b19a85e6",
   "metadata": {},
   "outputs": [
    {
     "data": {
      "text/plain": [
       "array([0, 1, 2, 3])"
      ]
     },
     "execution_count": 25,
     "metadata": {},
     "output_type": "execute_result"
    }
   ],
   "source": [
    "b[0]"
   ]
  },
  {
   "cell_type": "markdown",
   "id": "9d6c30ef-c696-4ad3-aef7-742a3265b2f7",
   "metadata": {},
   "source": [
    "# **Slicing**"
   ]
  },
  {
   "cell_type": "code",
   "execution_count": 33,
   "id": "7c9c85a1-47b4-4f7d-99d2-70b7c9a3c67f",
   "metadata": {},
   "outputs": [],
   "source": [
    "# Slicing arrays:\n",
    "a = np.array([10, 11, 12, 13, 14])"
   ]
  },
  {
   "cell_type": "code",
   "execution_count": 29,
   "id": "ffa04829-31cb-4e9b-b1c2-7d230bfb55cf",
   "metadata": {},
   "outputs": [
    {
     "data": {
      "text/plain": [
       "array([10, 11, 12, 13, 14])"
      ]
     },
     "execution_count": 29,
     "metadata": {},
     "output_type": "execute_result"
    }
   ],
   "source": [
    "a"
   ]
  },
  {
   "cell_type": "code",
   "execution_count": 30,
   "id": "2ae45f5a-5a8c-471f-bf26-aa4b99f7fc84",
   "metadata": {},
   "outputs": [
    {
     "data": {
      "text/plain": [
       "array([11, 12])"
      ]
     },
     "execution_count": 30,
     "metadata": {},
     "output_type": "execute_result"
    }
   ],
   "source": [
    "# indices:\n",
    "a[1:3]"
   ]
  },
  {
   "cell_type": "code",
   "execution_count": 31,
   "id": "c07669a3-6d9d-43bd-aa4e-c5882cbfcbdb",
   "metadata": {},
   "outputs": [
    {
     "data": {
      "text/plain": [
       "array([11, 12])"
      ]
     },
     "execution_count": 31,
     "metadata": {},
     "output_type": "execute_result"
    }
   ],
   "source": [
    "# negative indices work also:\n",
    "a[1: -2]"
   ]
  },
  {
   "cell_type": "code",
   "execution_count": 32,
   "id": "59a254e9-7f25-499a-a4d7-99ad3aabeed7",
   "metadata": {},
   "outputs": [
    {
     "data": {
      "text/plain": [
       "array([11, 12])"
      ]
     },
     "execution_count": 32,
     "metadata": {},
     "output_type": "execute_result"
    }
   ],
   "source": [
    "a[-4: 3]"
   ]
  },
  {
   "cell_type": "code",
   "execution_count": 34,
   "id": "a5c08dd9-fd83-44e8-984b-df8d9ea8dfe7",
   "metadata": {},
   "outputs": [],
   "source": [
    "# Omitting Indices"
   ]
  },
  {
   "cell_type": "code",
   "execution_count": 35,
   "id": "7ee8cac0-9df0-4c52-a3c4-5a5c45ba6258",
   "metadata": {},
   "outputs": [
    {
     "data": {
      "text/plain": [
       "array([10, 11, 12])"
      ]
     },
     "execution_count": 35,
     "metadata": {},
     "output_type": "execute_result"
    }
   ],
   "source": [
    "# grab first three elements\n",
    "a[:3]"
   ]
  },
  {
   "cell_type": "code",
   "execution_count": 36,
   "id": "2cb3da50-fdcc-4eda-ad85-046e725e7b58",
   "metadata": {},
   "outputs": [
    {
     "data": {
      "text/plain": [
       "array([13, 14])"
      ]
     },
     "execution_count": 36,
     "metadata": {},
     "output_type": "execute_result"
    }
   ],
   "source": [
    "# grab last two elements\n",
    "a[-2:]"
   ]
  },
  {
   "cell_type": "code",
   "execution_count": 37,
   "id": "e2bd0227-740b-4ecc-b0b6-c12ba0969ac5",
   "metadata": {},
   "outputs": [
    {
     "data": {
      "text/plain": [
       "array([10, 12, 14])"
      ]
     },
     "execution_count": 37,
     "metadata": {},
     "output_type": "execute_result"
    }
   ],
   "source": [
    "# every other element\n",
    "a[::2]"
   ]
  },
  {
   "cell_type": "markdown",
   "id": "8586e701-3a9a-49a1-bc2a-e961976ddd14",
   "metadata": {},
   "source": [
    "# **Exercise**"
   ]
  },
  {
   "cell_type": "code",
   "execution_count": 39,
   "id": "018dc486-794f-4604-845f-ae80d6834dc2",
   "metadata": {},
   "outputs": [],
   "source": [
    "a = np.arange(25).reshape(5, 5)"
   ]
  },
  {
   "cell_type": "code",
   "execution_count": 40,
   "id": "c582de6e-0c62-4f8b-9a90-6c8fd5d8ef6a",
   "metadata": {},
   "outputs": [
    {
     "data": {
      "text/plain": [
       "array([[ 0,  1,  2,  3,  4],\n",
       "       [ 5,  6,  7,  8,  9],\n",
       "       [10, 11, 12, 13, 14],\n",
       "       [15, 16, 17, 18, 19],\n",
       "       [20, 21, 22, 23, 24]])"
      ]
     },
     "execution_count": 40,
     "metadata": {},
     "output_type": "execute_result"
    }
   ],
   "source": [
    "a"
   ]
  },
  {
   "cell_type": "code",
   "execution_count": 41,
   "id": "7faba4ac-b346-461b-8011-93242756e2c6",
   "metadata": {},
   "outputs": [],
   "source": [
    "red = a[:, 1::2]"
   ]
  },
  {
   "cell_type": "code",
   "execution_count": 42,
   "id": "6c00cad4-0e00-4a6c-b10d-96088b4cc2b0",
   "metadata": {},
   "outputs": [
    {
     "data": {
      "text/plain": [
       "array([[ 1,  3],\n",
       "       [ 6,  8],\n",
       "       [11, 13],\n",
       "       [16, 18],\n",
       "       [21, 23]])"
      ]
     },
     "execution_count": 42,
     "metadata": {},
     "output_type": "execute_result"
    }
   ],
   "source": [
    "red"
   ]
  },
  {
   "cell_type": "code",
   "execution_count": 43,
   "id": "b9be0b25-b271-4544-a166-7d0cbb6a65a7",
   "metadata": {},
   "outputs": [],
   "source": [
    "yellow = a[4, :]"
   ]
  },
  {
   "cell_type": "code",
   "execution_count": 44,
   "id": "4dcf2c98-d86c-4e87-a7fc-bb8ff582d10e",
   "metadata": {},
   "outputs": [
    {
     "data": {
      "text/plain": [
       "array([20, 21, 22, 23, 24])"
      ]
     },
     "execution_count": 44,
     "metadata": {},
     "output_type": "execute_result"
    }
   ],
   "source": [
    "yellow"
   ]
  },
  {
   "cell_type": "code",
   "execution_count": 45,
   "id": "427ac911-1767-48a0-a4f9-34a515f92f42",
   "metadata": {},
   "outputs": [
    {
     "data": {
      "text/plain": [
       "array([20, 21, 22, 23, 24])"
      ]
     },
     "execution_count": 45,
     "metadata": {},
     "output_type": "execute_result"
    }
   ],
   "source": [
    "a[4]"
   ]
  },
  {
   "cell_type": "code",
   "execution_count": 46,
   "id": "bb1905b1-98ab-4364-b884-96ff4caf6f85",
   "metadata": {},
   "outputs": [
    {
     "data": {
      "text/plain": [
       "array([20, 21, 22, 23, 24])"
      ]
     },
     "execution_count": 46,
     "metadata": {},
     "output_type": "execute_result"
    }
   ],
   "source": [
    "a[-1, :]"
   ]
  },
  {
   "cell_type": "code",
   "execution_count": 47,
   "id": "41ddea9b-afa1-433d-aa45-ecf05918b98e",
   "metadata": {},
   "outputs": [],
   "source": [
    "blue = a[1::2, :3:2]"
   ]
  },
  {
   "cell_type": "code",
   "execution_count": 48,
   "id": "4e4c2719-0ead-4876-879b-53e30ba2b702",
   "metadata": {},
   "outputs": [
    {
     "data": {
      "text/plain": [
       "array([[ 5,  7],\n",
       "       [15, 17]])"
      ]
     },
     "execution_count": 48,
     "metadata": {},
     "output_type": "execute_result"
    }
   ],
   "source": [
    "blue"
   ]
  },
  {
   "cell_type": "code",
   "execution_count": 49,
   "id": "e3d9d967-94d8-42df-9c51-8c6793d52af1",
   "metadata": {},
   "outputs": [],
   "source": [
    "blue = a[1::2, :4:2]"
   ]
  },
  {
   "cell_type": "code",
   "execution_count": 50,
   "id": "11e78ecb-804a-4646-8001-665bcd99c266",
   "metadata": {},
   "outputs": [
    {
     "data": {
      "text/plain": [
       "array([[ 5,  7],\n",
       "       [15, 17]])"
      ]
     },
     "execution_count": 50,
     "metadata": {},
     "output_type": "execute_result"
    }
   ],
   "source": [
    "blue"
   ]
  },
  {
   "cell_type": "code",
   "execution_count": 51,
   "id": "efe02864-4a49-438c-8366-b0cc45a688a2",
   "metadata": {},
   "outputs": [],
   "source": [
    "blue = a[1::2, :-1:2]"
   ]
  },
  {
   "cell_type": "code",
   "execution_count": 52,
   "id": "02b5c20b-6d57-4804-a014-b884e94bfb75",
   "metadata": {},
   "outputs": [
    {
     "data": {
      "text/plain": [
       "array([[ 5,  7],\n",
       "       [15, 17]])"
      ]
     },
     "execution_count": 52,
     "metadata": {},
     "output_type": "execute_result"
    }
   ],
   "source": [
    "blue"
   ]
  },
  {
   "cell_type": "code",
   "execution_count": 53,
   "id": "809bd6fc-e52c-4d5d-9f65-697c7baee9b8",
   "metadata": {},
   "outputs": [],
   "source": [
    "import matplotlib.pyplot as plt"
   ]
  },
  {
   "cell_type": "code",
   "execution_count": 54,
   "id": "c7344a25-e95a-4a50-aa74-1b8e3bbc30c6",
   "metadata": {},
   "outputs": [],
   "source": [
    "img = plt.imread('./dc_metro.png')"
   ]
  },
  {
   "cell_type": "code",
   "execution_count": 55,
   "id": "0dc760bf-b905-41e6-8471-ed65d9f26d4a",
   "metadata": {},
   "outputs": [
    {
     "data": {
      "text/plain": [
       "<matplotlib.image.AxesImage at 0x2141bb4fca0>"
      ]
     },
     "execution_count": 55,
     "metadata": {},
     "output_type": "execute_result"
    },
    {
     "data": {
      "image/png": "[encoded data removed]",
      "text/plain": [
       "<Figure size 432x288 with 1 Axes>"
      ]
     },
     "metadata": {
      "needs_background": "light"
     },
     "output_type": "display_data"
    }
   ],
   "source": [
    "plt.imshow(img, cmap=plt.cm.hot)"
   ]
  },
  {
   "cell_type": "code",
   "execution_count": 56,
   "id": "649a7d68-bbb7-4874-98da-a9f1fb5d088e",
   "metadata": {},
   "outputs": [
    {
     "data": {
      "text/plain": [
       "'\\nFilter Image\\n------------\\n\\nRead in the \"dc_metro\" image and use an averaging filter\\nto \"smooth\" the image.  Use a \"5 point stencil\" where\\nyou average the current pixel with its neighboring pixels::\\n\\n              0 0 0 0 0 0 0\\n              0 0 0 x 0 0 0\\n              0 0 x x x 0 0\\n              0 0 0 x 0 0 0\\n              0 0 0 0 0 0 0\\n\\nPlot the image, the smoothed image, and the difference between the\\ntwo.\\n\\nBonus\\n~~~~~\\n\\nRe-filter the image by passing the result image through the filter again. Do\\nthis 50 times and plot the resulting image.\\n\\n'"
      ]
     },
     "execution_count": 56,
     "metadata": {},
     "output_type": "execute_result"
    }
   ],
   "source": [
    "\"\"\"\n",
    "Filter Image\n",
    "------------\n",
    "\n",
    "Read in the \"dc_metro\" image and use an averaging filter\n",
    "to \"smooth\" the image.  Use a \"5 point stencil\" where\n",
    "you average the current pixel with its neighboring pixels::\n",
    "\n",
    "              0 0 0 0 0 0 0\n",
    "              0 0 0 x 0 0 0\n",
    "              0 0 x x x 0 0\n",
    "              0 0 0 x 0 0 0\n",
    "              0 0 0 0 0 0 0\n",
    "\n",
    "Plot the image, the smoothed image, and the difference between the\n",
    "two.\n",
    "\n",
    "Bonus\n",
    "~~~~~\n",
    "\n",
    "Re-filter the image by passing the result image through the filter again. Do\n",
    "this 50 times and plot the resulting image.\n",
    "\n",
    "\"\"\""
   ]
  },
  {
   "cell_type": "code",
   "execution_count": 57,
   "id": "7e2cc74a-9853-4e3d-b390-f594cc256def",
   "metadata": {},
   "outputs": [],
   "source": [
    "def smooth(img):\n",
    "    avg_img =(    img[1:-1 ,1:-1]  # center\n",
    "                + img[ :-2 ,1:-1]  # top\n",
    "                + img[2:   ,1:-1]  # bottom\n",
    "                + img[1:-1 , :-2]  # left\n",
    "                + img[1:-1 ,2:  ]  # right\n",
    "                ) / 5.0\n",
    "    return avg_img\n"
   ]
  },
  {
   "cell_type": "code",
   "execution_count": 58,
   "id": "917a0af1-acb5-4fc4-a105-5437595af7ac",
   "metadata": {},
   "outputs": [],
   "source": [
    "def smooth_loop(img):\n",
    "    smoothed = np.zeros((img.shape[0]-2, img.shape[1]-2))\n",
    "    for r in range(0, img.shape[0]-2):\n",
    "        for c in range(0, img.shape[1]-2):\n",
    "            smoothed[r, c] = (  img[r+1, c+1]  # center\n",
    "                              + img[r  , c+1]  # top\n",
    "                              + img[r+2, c+1]  # bottom\n",
    "                              + img[r+1, c  ]  # left\n",
    "                              + img[r+1, c+2]  # right\n",
    "                             ) / 5.0\n",
    "    return smoothed"
   ]
  },
  {
   "cell_type": "code",
   "execution_count": 59,
   "id": "e472aae3-c4e4-4c53-9d78-f2e1bab97625",
   "metadata": {},
   "outputs": [
    {
     "data": {
      "text/plain": [
       "<Figure size 432x288 with 0 Axes>"
      ]
     },
     "execution_count": 59,
     "metadata": {},
     "output_type": "execute_result"
    },
    {
     "data": {
      "text/plain": [
       "<Figure size 432x288 with 0 Axes>"
      ]
     },
     "metadata": {},
     "output_type": "display_data"
    }
   ],
   "source": [
    "img = plt.imread('dc_metro.png')\n",
    "avg_img = smooth(img)\n",
    "\n",
    "plt.figure()"
   ]
  },
  {
   "cell_type": "code",
   "execution_count": 60,
   "id": "9959e8e6-cfff-4241-81fa-25659fa3ac3a",
   "metadata": {},
   "outputs": [
    {
     "data": {
      "text/plain": [
       "<Figure size 432x288 with 0 Axes>"
      ]
     },
     "metadata": {},
     "output_type": "display_data"
    }
   ],
   "source": [
    "# Set colormap so that images are plotted in gray scale.\n",
    "plt.gray()"
   ]
  },
  {
   "cell_type": "code",
   "execution_count": 61,
   "id": "fc948888-2e02-484a-bd66-71da270c39ae",
   "metadata": {},
   "outputs": [
    {
     "data": {
      "text/plain": [
       "Text(0.5, 1.0, 'original')"
      ]
     },
     "execution_count": 61,
     "metadata": {},
     "output_type": "execute_result"
    },
    {
     "data": {
      "image/png": "[encoded data removed]",
      "text/plain": [
       "<Figure size 432x288 with 1 Axes>"
      ]
     },
     "metadata": {
      "needs_background": "light"
     },
     "output_type": "display_data"
    }
   ],
   "source": [
    "# Plot the original image first\n",
    "plt.subplot(1,3,1)\n",
    "plt.imshow(img)\n",
    "plt.title('original')"
   ]
  },
  {
   "cell_type": "code",
   "execution_count": 62,
   "id": "00057c0b-72bb-47de-a973-3d2041dd5618",
   "metadata": {},
   "outputs": [
    {
     "data": {
      "text/plain": [
       "Text(0.5, 1.0, 'smoothed once')"
      ]
     },
     "execution_count": 62,
     "metadata": {},
     "output_type": "execute_result"
    },
    {
     "data": {
      "image/png": "[encoded data removed]",
      "text/plain": [
       "<Figure size 432x288 with 1 Axes>"
      ]
     },
     "metadata": {
      "needs_background": "light"
     },
     "output_type": "display_data"
    }
   ],
   "source": [
    "# Now the filtered image.\n",
    "plt.subplot(1,3,2)\n",
    "plt.imshow(avg_img)\n",
    "plt.title('smoothed once')"
   ]
  },
  {
   "cell_type": "code",
   "execution_count": 63,
   "id": "224cb3c8-961a-4408-be9b-b5bf55814d85",
   "metadata": {},
   "outputs": [
    {
     "data": {
      "text/plain": [
       "Text(0.5, 1.0, 'difference')"
      ]
     },
     "execution_count": 63,
     "metadata": {},
     "output_type": "execute_result"
    },
    {
     "data": {
      "image/png": "[encoded data removed]",
      "text/plain": [
       "<Figure size 432x288 with 1 Axes>"
      ]
     },
     "metadata": {
      "needs_background": "light"
     },
     "output_type": "display_data"
    }
   ],
   "source": [
    "# And finally the difference between the two.\n",
    "plt.subplot(1,3,3)\n",
    "plt.imshow(img[1:-1,1:-1] - avg_img)\n",
    "plt.title('difference')"
   ]
  },
  {
   "cell_type": "code",
   "execution_count": 64,
   "id": "e6d58ba8-a7bc-4982-938c-5226d87d7375",
   "metadata": {},
   "outputs": [],
   "source": [
    "# Bonus: Re-filter the image by passing the result image\n",
    "#        through the filter again.  Do this 50 times and plot\n",
    "#        the resulting image.\n",
    "\n",
    "for num in range(50):\n",
    "    avg_img = smooth(avg_img)\n"
   ]
  },
  {
   "cell_type": "code",
   "execution_count": 65,
   "id": "cf4d38f3-8136-498f-bd46-bc8b97f59d37",
   "metadata": {},
   "outputs": [
    {
     "data": {
      "text/plain": [
       "Text(0.5, 1.0, 'original')"
      ]
     },
     "execution_count": 65,
     "metadata": {},
     "output_type": "execute_result"
    },
    {
     "data": {
      "image/png": "[encoded data removed]",
      "text/plain": [
       "<Figure size 432x288 with 1 Axes>"
      ]
     },
     "metadata": {
      "needs_background": "light"
     },
     "output_type": "display_data"
    }
   ],
   "source": [
    "# Plot the original image first\n",
    "plt.figure()\n",
    "plt.subplot(1,2,1)\n",
    "plt.imshow(img)\n",
    "plt.title('original')"
   ]
  },
  {
   "cell_type": "code",
   "execution_count": 66,
   "id": "f7f4e675-008d-49d3-b8e1-dc04cc2c6072",
   "metadata": {},
   "outputs": [
    {
     "data": {
      "image/png": "[encoded data removed]",
      "text/plain": [
       "<Figure size 432x288 with 1 Axes>"
      ]
     },
     "metadata": {
      "needs_background": "light"
     },
     "output_type": "display_data"
    }
   ],
   "source": [
    "# Now the filtered image.\n",
    "plt.subplot(1,2,2)\n",
    "plt.imshow(avg_img)\n",
    "plt.title('smoothed 50 times')\n",
    "\n",
    "assert np.allclose(smooth(img), smooth_loop(img))\n",
    "\n",
    "plt.show()"
   ]
  },
  {
   "cell_type": "markdown",
   "id": "f83cf5dd-a396-494e-b8aa-de3d25120001",
   "metadata": {},
   "source": [
    "# **Fancy Indexing**"
   ]
  },
  {
   "cell_type": "code",
   "execution_count": 67,
   "id": "e71a89f9-e71b-428d-8e8e-d806459ded19",
   "metadata": {},
   "outputs": [],
   "source": [
    "# Indexing by Position\n",
    "a = np.arange(0, 80, 10)"
   ]
  },
  {
   "cell_type": "code",
   "execution_count": 68,
   "id": "aeb52655-c09c-41ae-8d2e-185a4fc9b850",
   "metadata": {},
   "outputs": [
    {
     "data": {
      "text/plain": [
       "array([ 0, 10, 20, 30, 40, 50, 60, 70])"
      ]
     },
     "execution_count": 68,
     "metadata": {},
     "output_type": "execute_result"
    }
   ],
   "source": [
    "a"
   ]
  },
  {
   "cell_type": "code",
   "execution_count": 71,
   "id": "2e4fa1f7-a6c9-44ce-b430-d77254b8407b",
   "metadata": {},
   "outputs": [
    {
     "name": "stdout",
     "output_type": "stream",
     "text": [
      "[10 20 50]\n"
     ]
    }
   ],
   "source": [
    "indices = [1, 2, -3]\n",
    "y = a[indices]\n",
    "print(y)"
   ]
  },
  {
   "cell_type": "code",
   "execution_count": 72,
   "id": "409462f0-47a6-4c75-acfd-08d01e4337da",
   "metadata": {},
   "outputs": [
    {
     "data": {
      "text/plain": [
       "array([ 0, 99, 99, 30, 40, 99, 60, 70])"
      ]
     },
     "execution_count": 72,
     "metadata": {},
     "output_type": "execute_result"
    }
   ],
   "source": [
    "# this also works with setting\n",
    "a[indices] = 99\n",
    "a"
   ]
  },
  {
   "cell_type": "code",
   "execution_count": 73,
   "id": "babe8830-bb7c-4783-9b44-6ed128046369",
   "metadata": {},
   "outputs": [],
   "source": [
    "# Indexing with Booleans\n",
    "# Manual creation of masks\n",
    "mask = np.array([0, 1, 1, 0, 0, 1, 0, 0], dtype=bool)"
   ]
  },
  {
   "cell_type": "code",
   "execution_count": 74,
   "id": "d2dff2fe-2ffa-4976-bd6c-92001f18cd71",
   "metadata": {},
   "outputs": [
    {
     "name": "stdout",
     "output_type": "stream",
     "text": [
      "[99 99 99]\n"
     ]
    }
   ],
   "source": [
    "# fancy indexing\n",
    "y = a[mask]\n",
    "print(y)"
   ]
  },
  {
   "cell_type": "code",
   "execution_count": 75,
   "id": "bbbf9332-b4b4-4dc9-8daf-2fb3a210364d",
   "metadata": {},
   "outputs": [],
   "source": [
    "a = np.array([-1, -3, 1, 4, -6, 9, 3])"
   ]
  },
  {
   "cell_type": "code",
   "execution_count": 77,
   "id": "5f685f6d-7d4e-4da5-9cac-4e22f4f8ca5a",
   "metadata": {},
   "outputs": [],
   "source": [
    "negative = a < 0"
   ]
  },
  {
   "cell_type": "code",
   "execution_count": 79,
   "id": "4f57bfa7-b754-4086-8a6b-33eb2dd67dea",
   "metadata": {},
   "outputs": [
    {
     "data": {
      "text/plain": [
       "array([-1, -3, -6])"
      ]
     },
     "execution_count": 79,
     "metadata": {},
     "output_type": "execute_result"
    }
   ],
   "source": [
    "a[negative]"
   ]
  },
  {
   "cell_type": "code",
   "execution_count": 80,
   "id": "9a139c64-22b6-47b4-9844-1252144e869c",
   "metadata": {},
   "outputs": [],
   "source": [
    "a[negative] = 0"
   ]
  },
  {
   "cell_type": "code",
   "execution_count": 81,
   "id": "74a91f82-ccec-4068-8dd8-52d800a3da5d",
   "metadata": {},
   "outputs": [
    {
     "data": {
      "text/plain": [
       "array([0, 0, 1, 4, 0, 9, 3])"
      ]
     },
     "execution_count": 81,
     "metadata": {},
     "output_type": "execute_result"
    }
   ],
   "source": [
    "a"
   ]
  },
  {
   "cell_type": "code",
   "execution_count": 1,
   "id": "43d22dc8-be41-4176-8a4e-47a67981eaf2",
   "metadata": {},
   "outputs": [],
   "source": [
    "import matplotlib.pyplot as plt"
   ]
  },
  {
   "cell_type": "code",
   "execution_count": null,
   "id": "f8a63ea4-7195-48ab-bda6-8c2e659769a7",
   "metadata": {},
   "outputs": [],
   "source": []
  }
 ],
 "metadata": {
  "kernelspec": {
   "display_name": "Python 3 (ipykernel)",
   "language": "python",
   "name": "python3"
  },
  "language_info": {
   "codemirror_mode": {
    "name": "ipython",
    "version": 3
   },
   "file_extension": ".py",
   "mimetype": "text/x-python",
   "name": "python",
   "nbconvert_exporter": "python",
   "pygments_lexer": "ipython3",
   "version": "3.8.12"
  }
 },
 "nbformat": 4,
 "nbformat_minor": 5
}
